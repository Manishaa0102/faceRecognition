{
 "cells": [
  {
   "cell_type": "code",
   "execution_count": 2,
   "id": "a492eb6b",
   "metadata": {},
   "outputs": [],
   "source": [
    "# ensure the follow packages are downloaded before beginning\n",
    "# pip install scikit-image\n",
    "# pip install opencv-python "
   ]
  },
  {
   "cell_type": "code",
   "execution_count": 24,
   "id": "73d784e0",
   "metadata": {},
   "outputs": [],
   "source": [
    "import numpy as np\n",
    "import matplotlib.image as mimg\n",
    "import matplotlib.pyplot as plt\n",
    "from skimage import feature # to extract the features\n",
    "from sklearn import svm # svm as classifer\n",
    "import joblib # to save the model \n",
    "import os\n",
    "import pandas as pd\n",
    "\n",
    "import cv2  # the image processing library\n",
    "import matplotlib.pyplot as plt  \n",
    "   "
   ]
  },
  {
   "cell_type": "code",
   "execution_count": 25,
   "id": "838faed7",
   "metadata": {
    "scrolled": true
   },
   "outputs": [
    {
     "name": "stdout",
     "output_type": "stream",
     "text": [
      "training done\n"
     ]
    }
   ],
   "source": [
    "# creating empty np arrays for training and testing\n",
    "\n",
    "length = len(next(os.walk('orl_face'))[1]) # total training samples (number of people)\n",
    "no_samples = 7 #set the number of images trained for each person (max 10)\n",
    "\n",
    "train_data=np.zeros((no_samples*length,280))\n",
    "train_label=np.zeros((no_samples*length))\n",
    "count=-1\n",
    "#plt.figure(1)\n",
    "#plt.ion()\n",
    "\n",
    "\n",
    "# training loop\n",
    "\n",
    "for i in range(1,length+1):\n",
    "    for j in range(1,no_samples+1):\n",
    "        #plt.cla()\n",
    "        count=count+1\n",
    "        path = 'orl_face/u%d/%d.png'%(i,j)\n",
    "        im = mimg.imread(path)\n",
    "        # feature extraction \n",
    "        feat,hog_image = feature.hog(im,orientations=8,pixels_per_cell=(16,16),\n",
    "                                     visualize=True,block_norm='L2-Hys',\n",
    "                                     cells_per_block=(1,1))\n",
    "        \n",
    "        train_data[count,:]=feat.reshape(1,-1)\n",
    "        train_label[count]=i\n",
    "        # histogram of gradient features(hog)\n",
    "        #plt.subplot(2,1,1)\n",
    "        #plt.imshow(im,cmap='gray') # displaying training images\n",
    "        #plt.subplot(2,1,2)\n",
    "        #plt.imshow(hog_image,cmap='gray')\n",
    "        #plt.pause(0.3)\n",
    "\n",
    "# model creation\n",
    "svm_model = svm.SVC(kernel='poly',gamma='scale')\n",
    "\n",
    "# train the model\n",
    "svm_model = svm_model.fit(train_data,train_label)\n",
    "\n",
    "# save the model\n",
    "joblib.dump(svm_model,'svm_train_model_face.pkl')\n",
    "\n",
    "print('training done')"
   ]
  },
  {
   "cell_type": "code",
   "execution_count": 26,
   "id": "3ad75c79",
   "metadata": {},
   "outputs": [
    {
     "data": {
      "text/html": [
       "<style>#sk-container-id-4 {color: black;background-color: white;}#sk-container-id-4 pre{padding: 0;}#sk-container-id-4 div.sk-toggleable {background-color: white;}#sk-container-id-4 label.sk-toggleable__label {cursor: pointer;display: block;width: 100%;margin-bottom: 0;padding: 0.3em;box-sizing: border-box;text-align: center;}#sk-container-id-4 label.sk-toggleable__label-arrow:before {content: \"▸\";float: left;margin-right: 0.25em;color: #696969;}#sk-container-id-4 label.sk-toggleable__label-arrow:hover:before {color: black;}#sk-container-id-4 div.sk-estimator:hover label.sk-toggleable__label-arrow:before {color: black;}#sk-container-id-4 div.sk-toggleable__content {max-height: 0;max-width: 0;overflow: hidden;text-align: left;background-color: #f0f8ff;}#sk-container-id-4 div.sk-toggleable__content pre {margin: 0.2em;color: black;border-radius: 0.25em;background-color: #f0f8ff;}#sk-container-id-4 input.sk-toggleable__control:checked~div.sk-toggleable__content {max-height: 200px;max-width: 100%;overflow: auto;}#sk-container-id-4 input.sk-toggleable__control:checked~label.sk-toggleable__label-arrow:before {content: \"▾\";}#sk-container-id-4 div.sk-estimator input.sk-toggleable__control:checked~label.sk-toggleable__label {background-color: #d4ebff;}#sk-container-id-4 div.sk-label input.sk-toggleable__control:checked~label.sk-toggleable__label {background-color: #d4ebff;}#sk-container-id-4 input.sk-hidden--visually {border: 0;clip: rect(1px 1px 1px 1px);clip: rect(1px, 1px, 1px, 1px);height: 1px;margin: -1px;overflow: hidden;padding: 0;position: absolute;width: 1px;}#sk-container-id-4 div.sk-estimator {font-family: monospace;background-color: #f0f8ff;border: 1px dotted black;border-radius: 0.25em;box-sizing: border-box;margin-bottom: 0.5em;}#sk-container-id-4 div.sk-estimator:hover {background-color: #d4ebff;}#sk-container-id-4 div.sk-parallel-item::after {content: \"\";width: 100%;border-bottom: 1px solid gray;flex-grow: 1;}#sk-container-id-4 div.sk-label:hover label.sk-toggleable__label {background-color: #d4ebff;}#sk-container-id-4 div.sk-serial::before {content: \"\";position: absolute;border-left: 1px solid gray;box-sizing: border-box;top: 0;bottom: 0;left: 50%;z-index: 0;}#sk-container-id-4 div.sk-serial {display: flex;flex-direction: column;align-items: center;background-color: white;padding-right: 0.2em;padding-left: 0.2em;position: relative;}#sk-container-id-4 div.sk-item {position: relative;z-index: 1;}#sk-container-id-4 div.sk-parallel {display: flex;align-items: stretch;justify-content: center;background-color: white;position: relative;}#sk-container-id-4 div.sk-item::before, #sk-container-id-4 div.sk-parallel-item::before {content: \"\";position: absolute;border-left: 1px solid gray;box-sizing: border-box;top: 0;bottom: 0;left: 50%;z-index: -1;}#sk-container-id-4 div.sk-parallel-item {display: flex;flex-direction: column;z-index: 1;position: relative;background-color: white;}#sk-container-id-4 div.sk-parallel-item:first-child::after {align-self: flex-end;width: 50%;}#sk-container-id-4 div.sk-parallel-item:last-child::after {align-self: flex-start;width: 50%;}#sk-container-id-4 div.sk-parallel-item:only-child::after {width: 0;}#sk-container-id-4 div.sk-dashed-wrapped {border: 1px dashed gray;margin: 0 0.4em 0.5em 0.4em;box-sizing: border-box;padding-bottom: 0.4em;background-color: white;}#sk-container-id-4 div.sk-label label {font-family: monospace;font-weight: bold;display: inline-block;line-height: 1.2em;}#sk-container-id-4 div.sk-label-container {text-align: center;}#sk-container-id-4 div.sk-container {/* jupyter's `normalize.less` sets `[hidden] { display: none; }` but bootstrap.min.css set `[hidden] { display: none !important; }` so we also need the `!important` here to be able to override the default hidden behavior on the sphinx rendered scikit-learn.org. See: https://github.com/scikit-learn/scikit-learn/issues/21755 */display: inline-block !important;position: relative;}#sk-container-id-4 div.sk-text-repr-fallback {display: none;}</style><div id=\"sk-container-id-4\" class=\"sk-top-container\"><div class=\"sk-text-repr-fallback\"><pre>SVC(kernel=&#x27;poly&#x27;)</pre><b>In a Jupyter environment, please rerun this cell to show the HTML representation or trust the notebook. <br />On GitHub, the HTML representation is unable to render, please try loading this page with nbviewer.org.</b></div><div class=\"sk-container\" hidden><div class=\"sk-item\"><div class=\"sk-estimator sk-toggleable\"><input class=\"sk-toggleable__control sk-hidden--visually\" id=\"sk-estimator-id-4\" type=\"checkbox\" checked><label for=\"sk-estimator-id-4\" class=\"sk-toggleable__label sk-toggleable__label-arrow\">SVC</label><div class=\"sk-toggleable__content\"><pre>SVC(kernel=&#x27;poly&#x27;)</pre></div></div></div></div></div>"
      ],
      "text/plain": [
       "SVC(kernel='poly')"
      ]
     },
     "execution_count": 26,
     "metadata": {},
     "output_type": "execute_result"
    }
   ],
   "source": [
    "\n",
    "# you can reload the model directly instead of fitting again \n",
    "\n",
    "joblib.load('svm_train_model_face.pkl')\n"
   ]
  },
  {
   "cell_type": "code",
   "execution_count": 23,
   "id": "0748291d",
   "metadata": {},
   "outputs": [
    {
     "data": {
      "text/plain": [
       "-1"
      ]
     },
     "execution_count": 23,
     "metadata": {},
     "output_type": "execute_result"
    }
   ],
   "source": [
    "# Capturing your images for training!\n",
    "\n",
    "\n",
    "num_of_sample = 10 # set number of samples\n",
    "\n",
    "# make a new folder \n",
    "if not os.path.exists('orl_face/u%d'%(length + 1)):\n",
    "    os.makedirs('orl_face/u%d'%(length + 1))\n",
    "    \n",
    "vid = cv2.VideoCapture(0) # to open the camera\n",
    "\n",
    "# haar cascade for frontal face is the algorithm to detect the face in image\n",
    "face_cascade = cv2.CascadeClassifier('haarcascade_frontalface_default.xml')\n",
    "iter1=0\n",
    "\n",
    "while(iter1<num_of_sample):\n",
    "    r,frame = vid.read();# capture a single frame\n",
    "    frame = cv2.resize(frame,(640,480)) # resizig the frame\n",
    "    im1 = cv2.cvtColor(frame,cv2.COLOR_RGB2GRAY) \n",
    "    face=face_cascade.detectMultiScale(im1, scaleFactor =1.3, minNeighbors=4, minSize= (30,30))\n",
    "    for x,y,w,h in face:\n",
    "        cv2.rectangle(frame,(x,y),(x+w,y+h),[0,0,255],4) \n",
    "        iter1=iter1+1\n",
    "        im_f = im1[y:y+h,x:x+w] #cropping of the face from image\n",
    "        im_f = cv2.resize(im_f,(112,92)) #orl face matching size\n",
    "        cv2.putText(frame,'sample no.'+str(iter1),(x,y), cv2.FONT_ITALIC, 1,\n",
    "                   (255,0,255),2,cv2.LINE_AA)\n",
    "        path2 = 'orl_face/u%d/%d.png'%(length + 1,iter1) # path to save the image directly to a new folder in the training data\n",
    "        cv2.imwrite(path2,im_f) # to save the image \n",
    "        \n",
    "    cv2.imshow('frame',frame)# display\n",
    "    if cv2.waitKey(1) and 0xFF == ord('q'):\n",
    "        break\n",
    "vid.release()\n",
    "cv2.destroyAllWindows()\n",
    "cv2.waitKey(1)"
   ]
  },
  {
   "cell_type": "code",
   "execution_count": 19,
   "id": "8d688a5f",
   "metadata": {},
   "outputs": [
    {
     "data": {
      "text/plain": [
       "-1"
      ]
     },
     "execution_count": 19,
     "metadata": {},
     "output_type": "execute_result"
    }
   ],
   "source": [
    "# testing on images captured in real time on video, with the predicted label printed on the left of the red box\n",
    "\n",
    "import cv2 \n",
    "import matplotlib.pyplot as plt   # for the plotting\n",
    "\n",
    "num_of_sample = 100    \n",
    "vid = cv2.VideoCapture(0) # to open the camera\n",
    "\n",
    "eye_cascade = cv2.CascadeClassifier('haarcascade_eye.xml')\n",
    "face_cascade = cv2.CascadeClassifier('haarcascade_frontalface_default.xml')\n",
    "iter1=0\n",
    "\n",
    "while(iter1<num_of_sample):\n",
    "    r,frame = vid.read();# capture a single frame\n",
    "    \n",
    "    im1 = cv2.cvtColor(frame,cv2.COLOR_RGB2GRAY)# gray scale conversion of color image\n",
    "    face=face_cascade.detectMultiScale(im1, scaleFactor =1.3, minNeighbors=4, minSize= (30,30))\n",
    "    eye = eye_cascade.detectMultiScale(im1)\n",
    "    for x,y,w,h in face:\n",
    "        cv2.rectangle(frame,(x,y),(x+w,y+h),[0,0,255],4)\n",
    "        iter1=iter1+1\n",
    "        im_f= im1[y:y+h,x:x+w] #cropping of the face from image\n",
    "        im_f = cv2.resize(im_f,(112,92)) #orl face matching size\n",
    "        feat,hog_image = feature.hog(im,orientations=8,pixels_per_cell=(16,16),\n",
    "                                     visualize=True,block_norm='L2-Hys',\n",
    "                                     cells_per_block=(1,1))\n",
    "\n",
    "        test =feat.reshape(1,-1)\n",
    "        # make prediction\n",
    "        result = str(svm_model.predict(test)[0])\n",
    "        \n",
    "        # put prediction label next to the image\n",
    "        cv2.putText(frame,result,(x,y), cv2.FONT_ITALIC, 1,\n",
    "                   (255,0,255),2,cv2.LINE_AA)\n",
    "    for ex,ey,ew,eh in eye:\n",
    "        cv2.rectangle(frame, (ex,ey), (ex+ew, ey+eh), (0,225,0),2)\n",
    "    cv2.imshow('frame',frame)# display\n",
    "    if cv2.waitKey(1) and 0xFF == ord('q'):\n",
    "             break\n",
    "vid.release()\n",
    "cv2.destroyAllWindows()\n",
    "cv2.waitKey(1)\n",
    "\n",
    "\n",
    "# and there you have it! you can define a dictionary if you wish for the names to be printed instead of labels"
   ]
  }
 ],
 "metadata": {
  "kernelspec": {
   "display_name": "Python 3 (ipykernel)",
   "language": "python",
   "name": "python3"
  },
  "language_info": {
   "codemirror_mode": {
    "name": "ipython",
    "version": 3
   },
   "file_extension": ".py",
   "mimetype": "text/x-python",
   "name": "python",
   "nbconvert_exporter": "python",
   "pygments_lexer": "ipython3",
   "version": "3.10.8"
  }
 },
 "nbformat": 4,
 "nbformat_minor": 5
}
